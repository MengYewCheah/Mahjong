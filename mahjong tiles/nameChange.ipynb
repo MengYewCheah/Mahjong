{
 "cells": [
  {
   "cell_type": "code",
   "execution_count": 1,
   "id": "0b073bb6",
   "metadata": {},
   "outputs": [],
   "source": [
    "import os"
   ]
  },
  {
   "cell_type": "code",
   "execution_count": 16,
   "id": "c04748c2",
   "metadata": {},
   "outputs": [],
   "source": [
    "files = os.listdir()\n",
    "\n",
    "for file in files:\n",
    "    if 'Circle' in file:\n",
    "        newName = file[:-10] + \"Tong.png\"\n",
    "    elif 'Stick' in file:\n",
    "        newName = file[:-9] + \"Tiao.png\"\n",
    "    elif 'Thousand' in file:\n",
    "        newName = file[:-12] + \"Wan.png\"\n",
    "    else:\n",
    "        continue\n",
    "    try:\n",
    "        os.rename(file, newName)\n",
    "    except FileExistsError:\n",
    "        print(file + \" exists.\")"
   ]
  },
  {
   "cell_type": "markdown",
   "id": "6af05392",
   "metadata": {},
   "source": []
  }
 ],
 "metadata": {
  "kernelspec": {
   "display_name": "Python 3 (ipykernel)",
   "language": "python",
   "name": "python3"
  },
  "language_info": {
   "codemirror_mode": {
    "name": "ipython",
    "version": 3
   },
   "file_extension": ".py",
   "mimetype": "text/x-python",
   "name": "python",
   "nbconvert_exporter": "python",
   "pygments_lexer": "ipython3",
   "version": "3.11.5"
  }
 },
 "nbformat": 4,
 "nbformat_minor": 5
}
